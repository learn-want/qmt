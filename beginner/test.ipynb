{
 "cells": [
  {
   "cell_type": "code",
   "execution_count": null,
   "id": "e8703b33",
   "metadata": {},
   "outputs": [
    {
     "ename": "",
     "evalue": "",
     "output_type": "error",
     "traceback": [
      "\u001b[1;31mRunning cells with 'trade (Python 3.11.13)' requires the ipykernel package.\n",
      "\u001b[1;31m<a href='command:jupyter.createPythonEnvAndSelectController'>Create a Python Environment</a> with the required packages.\n",
      "\u001b[1;31mOr install 'ipykernel' using the command: 'conda install -n trade ipykernel --update-deps --force-reinstall'"
     ]
    }
   ],
   "source": [
    "# 导入 xtdatacenter 模块\n",
    "# 导入 xtdatacenter 模块\n",
    "from xtquant import xtdatacenter as xtdc  \n",
    "  \n",
    "'''  \n",
    "设置用于登录行情服务的token，此接口应该先于 init_quote 调用\n",
    "\n",
    "token可以从投研用户中心获取\n",
    "https://xuntou.net/#/userInfo\n",
    "'''  \n",
    "xtdc.set_token('3681a22c903a903b0e3cc806580c5c97cab4c299')\n",
    "  \n",
    "'''  \n",
    "设置数据存储根目录，此接口应该先于 init_quote 调用  \n",
    "datacenter 启动后，会在 data_home_dir 目录下建立若干目录存储数据  \n",
    "此接口不是必须调用，如果不设置，会使用默认路径\n",
    "'''  \n",
    "# xtdc.set_data_home_dir('data') \n",
    "\n",
    "'''\n",
    "函数用法可通过以下方式查看：\n",
    "'''\n",
    "# print(help(xtdc.set_data_home_dir))  \n",
    "  \n",
    "'''  \n",
    "初始化行情模块  \n",
    "'''  \n",
    "xtdc.init()\n",
    "\n",
    "'''\n",
    "初始化需要一定时间，完成后即可按照数据字典的对应引导使用\n",
    "'''\n",
    "\n",
    "# 导入 xtdata\n",
    "from xtquant import xtdata  \n",
    "\n",
    "# 获取交易日期\n",
    "tdl = xtdata.get_trading_dates('SH')  \n",
    "print(tdl[-10:])  \n",
    "\n",
    "# 获取板块列表\n",
    "sl = xtdata.get_stock_list_in_sector('沪深A股')  \n",
    "print(sl[::100])  \n",
    "\n",
    "# 输出平安银行的相关信息 \n",
    "data = xtdata.get_instrument_detail(\"000001.SZ\")  \n",
    "print(data)\n",
    "\n"
   ]
  },
  {
   "cell_type": "code",
   "execution_count": null,
   "id": "f232f0bf",
   "metadata": {},
   "outputs": [],
   "source": []
  },
  {
   "cell_type": "code",
   "execution_count": null,
   "id": "1cdc6aef",
   "metadata": {},
   "outputs": [],
   "source": []
  }
 ],
 "metadata": {
  "kernelspec": {
   "display_name": "trade",
   "language": "python",
   "name": "python3"
  },
  "language_info": {
   "name": "python",
   "version": "3.11.13"
  }
 },
 "nbformat": 4,
 "nbformat_minor": 5
}
